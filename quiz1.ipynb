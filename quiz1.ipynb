{
 "cells": [
  {
   "cell_type": "markdown",
   "metadata": {},
   "source": [
    "# Quiz 1\n",
    "\n",
    "**Author:**"
   ]
  },
  {
   "cell_type": "markdown",
   "metadata": {},
   "source": [
    "**Exercise 1:** \n",
    "\n",
    "Start from the following string: ```'565481515648651'```.\n",
    "\n",
    "a) Using a for loop, extract each individual number, transform it into an integer and add it to a numpy array called ```numbers```.\n",
    "\n",
    "**Expected output:** ```numbers = array([5., 6., 5., 4., 8., 1., 5., 1., 5., 6., 4., 8., 6., 5., 1.])```\n",
    "\n",
    "*Hint:* (i) you can create an array filled with zeros of size n using ```np.zeros(n)``` and (ii) you can get the kth position of a string ```str``` and an array ```arr``` using the slicing notation  ```str[k]``` and ```arr[k]```.\n",
    "\n",
    "b) Calculate and print the average and the standard deviation for the numbers in the array ```numbers```.\n",
    "\n",
    "**Expected output:** average 4.666 and standard deviation 2.149"
   ]
  },
  {
   "cell_type": "code",
   "execution_count": 11,
   "metadata": {},
   "outputs": [
    {
     "name": "stdout",
     "output_type": "stream",
     "text": [
      "[5. 6. 5. 4. 8. 1. 5. 1. 5. 6. 4. 8. 6. 5. 1.]\n",
      "4.666666666666667 2.14993539954628\n"
     ]
    }
   ],
   "source": [
    "import numpy as np \n",
    "\n",
    "numbers = np.array([])\n",
    "\n",
    "s = '565481515648651'\n",
    "\n",
    "for i in range(0,len(s)):\n",
    "    numbers = np.append(numbers,int(s[i]))\n",
    "\n",
    "print(numbers)\n",
    "\n",
    "numbers_avg = np.average(numbers)\n",
    "\n",
    "numbers_std= np.std(numbers)\n",
    "\n",
    "print(numbers_avg,numbers_std)\n"
   ]
  },
  {
   "cell_type": "markdown",
   "metadata": {},
   "source": [
    "**Exercise 2:** \n",
    "\n",
    "Calculate compound interest. If we start with a principal sum, $P$, and earn compounded interest, the total accumulated value, $V$, at the end of time $t$ is:\n",
    "\n",
    "$V=P\\left(1+{\\frac {r}{n}}\\right)^{nt}$\n",
    "\n",
    "where $r$ is the annual interest rate and $n$ is the compounding frequency.\n",
    "\n",
    "If the total accumulated value $V$ after 10 years is 3451.600873322722 with an annual interest rate is 5\\% compounded quarterly, what is the initial principal sum $P$? Print the value of $P$."
   ]
  },
  {
   "cell_type": "code",
   "execution_count": 16,
   "metadata": {},
   "outputs": [
    {
     "data": {
      "text/plain": [
       "2118.983522065678"
      ]
     },
     "execution_count": 16,
     "metadata": {},
     "output_type": "execute_result"
    }
   ],
   "source": [
    "p=0 \n",
    "def function(v = 3451.600873322722, r = 5, t = 10):\n",
    "    p = v / ((1+ (r/100))**t)\n",
    "    return p \n",
    "function(v=3451.600873322722,r=5,t=10 )\n",
    "\n",
    "\n",
    "    "
   ]
  },
  {
   "cell_type": "markdown",
   "metadata": {},
   "source": [
    "**Exercise 3:** \n",
    "\n",
    "a) Create a list with your fist name in the first position, your last name in the second position, and your age in the last position as an integer. Save the list as a new variable.\n",
    "\n",
    "b) Drop the value in the last position of the list and then reverse the list's order. Print the updated list.\n",
    "\n",
    "**Expected output:** ```['last name', 'first name']```"
   ]
  },
  {
   "cell_type": "code",
   "execution_count": 19,
   "metadata": {},
   "outputs": [
    {
     "name": "stdout",
     "output_type": "stream",
     "text": [
      "['Potter', 'Jake']\n"
     ]
    }
   ],
   "source": [
    "name_list = ['Jake','Potter','20']\n",
    "\n",
    "name_list.remove('20')\n",
    "\n",
    "\n",
    "\n",
    "name_list.reverse()\n",
    "\n",
    "print(name_list)"
   ]
  },
  {
   "cell_type": "code",
   "execution_count": null,
   "metadata": {},
   "outputs": [],
   "source": []
  }
 ],
 "metadata": {
  "kernelspec": {
   "display_name": "conda_amazonei_mxnet_p36",
   "language": "python",
   "name": "conda_amazonei_mxnet_p36"
  },
  "language_info": {
   "codemirror_mode": {
    "name": "ipython",
    "version": 3
   },
   "file_extension": ".py",
   "mimetype": "text/x-python",
   "name": "python",
   "nbconvert_exporter": "python",
   "pygments_lexer": "ipython3",
   "version": "3.6.13"
  },
  "vscode": {
   "interpreter": {
    "hash": "9fbb33e86ca55080a202fed700efde3fb4ffe3f46131e5b52201b9ba06ce5f72"
   }
  }
 },
 "nbformat": 4,
 "nbformat_minor": 4
}
